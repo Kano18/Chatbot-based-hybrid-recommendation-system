{
 "cells": [
  {
   "cell_type": "markdown",
   "id": "626352c4",
   "metadata": {},
   "source": [
    "# {{cookiecutter.project_name}}"
   ]
  },
  {
   "cell_type": "markdown",
   "id": "dc8d9ec0",
   "metadata": {},
   "source": [
    "**Author:** {{cookiecutter.author_name}}  \n",
    "**Description:** {{cookiecutter.description}}"
   ]
  },
  {
   "cell_type": "markdown",
   "id": "4a6e7bee",
   "metadata": {},
   "source": [
    "## 1. Data Loading"
   ]
  },
  {
   "cell_type": "code",
   "execution_count": null,
   "id": "7c60c3b9",
   "metadata": {},
   "outputs": [],
   "source": [
    "import pandas as pd\n",
    "from {{cookiecutter.project_slug}}.utils import load_data\n",
    "\n",
    "df = load_data()\n",
    "df.head()\n"
   ]
  },
  {
   "cell_type": "markdown",
   "id": "b1d115a4",
   "metadata": {},
   "source": [
    "## 2. Exploratory Views"
   ]
  },
  {
   "cell_type": "code",
   "execution_count": null,
   "id": "ae637f4c",
   "metadata": {},
   "outputs": [],
   "source": [
    "import matplotlib.pyplot as plt\n",
    "import seaborn as sns\n",
    "\n",
    "ax = df.isna().mean().plot.bar()\n",
    "plt.title(\"Missingness by Column\")\n",
    "plt.show()\n",
    "\n",
    "df.select_dtypes(\"number\").hist(figsize=(10,8))\n",
    "plt.suptitle(\"Numeric Distributions\")\n",
    "plt.show()\n"
   ]
  },
  {
   "cell_type": "markdown",
   "id": "c445748d",
   "metadata": {},
   "source": [
    "## 3. Dashboard Cells ({{cookiecutter.dashboard_stack}})"
   ]
  },
  {
   "cell_type": "code",
   "execution_count": null,
   "id": "58d856ef",
   "metadata": {},
   "outputs": [],
   "source": [
    "import panel as pn\n",
    "import hvplot.pandas  # noqa: F401\n",
    "\n",
    "pn.extension()\n",
    "\n",
    "num_cols = list(df.select_dtypes(\"number\").columns)\n",
    "select = pn.widgets.Select(name=\"Numeric Column\", options=num_cols if num_cols else [])\n",
    "\n",
    "@pn.depends(select)\n",
    "def plot(col):\n",
    "    if not num_cols:\n",
    "        return \"No numeric columns detected.\"\n",
    "    return df.hvplot.hist(col, bins=30)\n",
    "\n",
    "dashboard = pn.Column(\"# Simple Dashboard\", select, plot)\n",
    "dashboard\n"
   ]
  },
  {
   "cell_type": "markdown",
   "id": "a24dba99",
   "metadata": {},
   "source": [
    "## 4. Notes & Next Steps"
   ]
  },
  {
   "cell_type": "markdown",
   "id": "524ad037",
   "metadata": {},
   "source": [
    "- Replace `{{cookiecutter.dataset_main}}` with your dataset in `data/`.\n",
    "- Expand the dashboard section with your own charts and filters.\n",
    "- Consider exporting to a Panel app or Voila if you want a standalone app."
   ]
  }
 ],
 "metadata": {},
 "nbformat": 4,
 "nbformat_minor": 5
}
